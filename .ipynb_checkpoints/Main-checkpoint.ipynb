{
 "cells": [
  {
   "cell_type": "markdown",
   "metadata": {},
   "source": [
    "### _Observations_ \n",
    "\n",
    "1 Often times, I went back to excel to validate my work but then realized this is why I'm learning how to code. Once the data is summarized, it's very evident that there are only 2 drug regimens that actually reduce the tumor volume. \n",
    "<br>\n",
    "2.Looking at the statistical analysis, I noticed couple things: as the timepoint increases, variance increases as well and so does the standard deviation. The 2 drug regimens (ramicane, capomulin) had the highest st. dev compared to other ones. \n",
    "<br>\n",
    "3.The data doesn't seem to have outliers. Looking at the box plot, there isn't much statistical dispersion between the 2 successful regimens and the other 2 'less' successful regimens when compared to each other. \n",
    "<br>\n",
    "4.It's also important to note that there is a pretty high correlation between weight and tumor volume. With an r value of .84, we can confidently say this. It does make sense as weight is usually a triggering factor. \n"
   ]
  },
  {
   "cell_type": "code",
   "execution_count": 1,
   "metadata": {},
   "outputs": [],
   "source": [
    "%matplotlib inline "
   ]
  },
  {
   "cell_type": "code",
   "execution_count": 2,
   "metadata": {},
   "outputs": [],
   "source": [
    "import matplotlib.pyplot as plt\n",
    "import pandas as pd\n",
    "import numpy as np \n",
    "from scipy.stats import linregress\n",
    "from scipy import stats\n",
    "import scipy.stats as stats\n",
    "\n",
    "mouse_metadata = \"data/Mouse_metadata.csv\"\n",
    "study_results = \"data/Study_results.csv\"\n",
    "\n",
    "mouse_metadata = pd.read_csv(mouse_metadata)\n",
    "study_results = pd.read_csv(study_results)"
   ]
  },
  {
   "cell_type": "code",
   "execution_count": 3,
   "metadata": {},
   "outputs": [
    {
     "data": {
      "text/html": [
       "<div>\n",
       "<style scoped>\n",
       "    .dataframe tbody tr th:only-of-type {\n",
       "        vertical-align: middle;\n",
       "    }\n",
       "\n",
       "    .dataframe tbody tr th {\n",
       "        vertical-align: top;\n",
       "    }\n",
       "\n",
       "    .dataframe thead th {\n",
       "        text-align: right;\n",
       "    }\n",
       "</style>\n",
       "<table border=\"1\" class=\"dataframe\">\n",
       "  <thead>\n",
       "    <tr style=\"text-align: right;\">\n",
       "      <th></th>\n",
       "      <th>Mouse ID</th>\n",
       "      <th>Drug Regimen</th>\n",
       "      <th>Sex</th>\n",
       "      <th>Age_months</th>\n",
       "      <th>Weight (g)</th>\n",
       "      <th>Timepoint</th>\n",
       "      <th>Tumor Volume (mm3)</th>\n",
       "      <th>Metastatic Sites</th>\n",
       "    </tr>\n",
       "  </thead>\n",
       "  <tbody>\n",
       "    <tr>\n",
       "      <th>0</th>\n",
       "      <td>k403</td>\n",
       "      <td>Ramicane</td>\n",
       "      <td>Male</td>\n",
       "      <td>21</td>\n",
       "      <td>16</td>\n",
       "      <td>0</td>\n",
       "      <td>45.000000</td>\n",
       "      <td>0</td>\n",
       "    </tr>\n",
       "    <tr>\n",
       "      <th>1</th>\n",
       "      <td>k403</td>\n",
       "      <td>Ramicane</td>\n",
       "      <td>Male</td>\n",
       "      <td>21</td>\n",
       "      <td>16</td>\n",
       "      <td>5</td>\n",
       "      <td>38.825898</td>\n",
       "      <td>0</td>\n",
       "    </tr>\n",
       "    <tr>\n",
       "      <th>2</th>\n",
       "      <td>k403</td>\n",
       "      <td>Ramicane</td>\n",
       "      <td>Male</td>\n",
       "      <td>21</td>\n",
       "      <td>16</td>\n",
       "      <td>10</td>\n",
       "      <td>35.014271</td>\n",
       "      <td>1</td>\n",
       "    </tr>\n",
       "    <tr>\n",
       "      <th>3</th>\n",
       "      <td>k403</td>\n",
       "      <td>Ramicane</td>\n",
       "      <td>Male</td>\n",
       "      <td>21</td>\n",
       "      <td>16</td>\n",
       "      <td>15</td>\n",
       "      <td>34.223992</td>\n",
       "      <td>1</td>\n",
       "    </tr>\n",
       "    <tr>\n",
       "      <th>4</th>\n",
       "      <td>k403</td>\n",
       "      <td>Ramicane</td>\n",
       "      <td>Male</td>\n",
       "      <td>21</td>\n",
       "      <td>16</td>\n",
       "      <td>20</td>\n",
       "      <td>32.997729</td>\n",
       "      <td>1</td>\n",
       "    </tr>\n",
       "  </tbody>\n",
       "</table>\n",
       "</div>"
      ],
      "text/plain": [
       "  Mouse ID Drug Regimen   Sex  Age_months  Weight (g)  Timepoint  \\\n",
       "0     k403     Ramicane  Male          21          16          0   \n",
       "1     k403     Ramicane  Male          21          16          5   \n",
       "2     k403     Ramicane  Male          21          16         10   \n",
       "3     k403     Ramicane  Male          21          16         15   \n",
       "4     k403     Ramicane  Male          21          16         20   \n",
       "\n",
       "   Tumor Volume (mm3)  Metastatic Sites  \n",
       "0           45.000000                 0  \n",
       "1           38.825898                 0  \n",
       "2           35.014271                 1  \n",
       "3           34.223992                 1  \n",
       "4           32.997729                 1  "
      ]
     },
     "execution_count": 3,
     "metadata": {},
     "output_type": "execute_result"
    }
   ],
   "source": [
    "combined_df = pd.merge(mouse_metadata, study_results, on='Mouse ID') \n",
    "combined_df.head()"
   ]
  },
  {
   "cell_type": "markdown",
   "metadata": {},
   "source": [
    "### _Summary Statistics_ "
   ]
  },
  {
   "cell_type": "code",
   "execution_count": 4,
   "metadata": {},
   "outputs": [
    {
     "data": {
      "text/html": [
       "<div>\n",
       "<style scoped>\n",
       "    .dataframe tbody tr th:only-of-type {\n",
       "        vertical-align: middle;\n",
       "    }\n",
       "\n",
       "    .dataframe tbody tr th {\n",
       "        vertical-align: top;\n",
       "    }\n",
       "\n",
       "    .dataframe thead th {\n",
       "        text-align: right;\n",
       "    }\n",
       "</style>\n",
       "<table border=\"1\" class=\"dataframe\">\n",
       "  <thead>\n",
       "    <tr style=\"text-align: right;\">\n",
       "      <th></th>\n",
       "      <th></th>\n",
       "      <th>Mean</th>\n",
       "      <th>Median</th>\n",
       "      <th>Variance</th>\n",
       "      <th>Standard Deviation</th>\n",
       "      <th>Standard Error</th>\n",
       "    </tr>\n",
       "    <tr>\n",
       "      <th>Drug Regimen</th>\n",
       "      <th>Timepoint</th>\n",
       "      <th></th>\n",
       "      <th></th>\n",
       "      <th></th>\n",
       "      <th></th>\n",
       "      <th></th>\n",
       "    </tr>\n",
       "  </thead>\n",
       "  <tbody>\n",
       "    <tr>\n",
       "      <th rowspan=\"5\" valign=\"top\">Capomulin</th>\n",
       "      <th>0</th>\n",
       "      <td>45.000000</td>\n",
       "      <td>45.000000</td>\n",
       "      <td>0.000000</td>\n",
       "      <td>0.000000</td>\n",
       "      <td>0.000000</td>\n",
       "    </tr>\n",
       "    <tr>\n",
       "      <th>5</th>\n",
       "      <td>44.266086</td>\n",
       "      <td>45.597064</td>\n",
       "      <td>5.030889</td>\n",
       "      <td>2.242964</td>\n",
       "      <td>0.448593</td>\n",
       "    </tr>\n",
       "    <tr>\n",
       "      <th>10</th>\n",
       "      <td>43.084291</td>\n",
       "      <td>43.421014</td>\n",
       "      <td>12.344133</td>\n",
       "      <td>3.513422</td>\n",
       "      <td>0.702684</td>\n",
       "    </tr>\n",
       "    <tr>\n",
       "      <th>15</th>\n",
       "      <td>42.064317</td>\n",
       "      <td>42.798160</td>\n",
       "      <td>16.878693</td>\n",
       "      <td>4.108369</td>\n",
       "      <td>0.838617</td>\n",
       "    </tr>\n",
       "    <tr>\n",
       "      <th>20</th>\n",
       "      <td>40.716325</td>\n",
       "      <td>40.716428</td>\n",
       "      <td>19.035028</td>\n",
       "      <td>4.362915</td>\n",
       "      <td>0.909731</td>\n",
       "    </tr>\n",
       "  </tbody>\n",
       "</table>\n",
       "</div>"
      ],
      "text/plain": [
       "                             Mean     Median   Variance  Standard Deviation  \\\n",
       "Drug Regimen Timepoint                                                        \n",
       "Capomulin    0          45.000000  45.000000   0.000000            0.000000   \n",
       "             5          44.266086  45.597064   5.030889            2.242964   \n",
       "             10         43.084291  43.421014  12.344133            3.513422   \n",
       "             15         42.064317  42.798160  16.878693            4.108369   \n",
       "             20         40.716325  40.716428  19.035028            4.362915   \n",
       "\n",
       "                        Standard Error  \n",
       "Drug Regimen Timepoint                  \n",
       "Capomulin    0                0.000000  \n",
       "             5                0.448593  \n",
       "             10               0.702684  \n",
       "             15               0.838617  \n",
       "             20               0.909731  "
      ]
     },
     "execution_count": 4,
     "metadata": {},
     "output_type": "execute_result"
    }
   ],
   "source": [
    "# Generate a summary statistics table of mean, median, variance, standard deviation, and SEM of the tumor volume for each regimen\n",
    "\n",
    "drugregimen_mean = combined_df.groupby([\"Drug Regimen\",\"Timepoint\"]).mean()[\"Tumor Volume (mm3)\"]\n",
    "drugregimen_median = combined_df.groupby([\"Drug Regimen\",\"Timepoint\"]).median()[\"Tumor Volume (mm3)\"]\n",
    "drugregimen_var = combined_df.groupby([\"Drug Regimen\",\"Timepoint\"]).var()[\"Tumor Volume (mm3)\"]\n",
    "drugregimen_std = combined_df.groupby([\"Drug Regimen\",\"Timepoint\"]).std()[\"Tumor Volume (mm3)\"]\n",
    "drugregimen_sem = combined_df.groupby([\"Drug Regimen\",\"Timepoint\"]).sem()[\"Tumor Volume (mm3)\"]\n",
    "\n",
    "drugregimen_summary = pd.DataFrame({\"Mean\": drugregimen_mean,\n",
    "                                 \"Median\": drugregimen_median,\n",
    "                                 \"Variance\": drugregimen_var,\n",
    "                                 \"Standard Deviation\": drugregimen_std,\n",
    "                                 \"Standard Error\": drugregimen_sem})\n",
    "drugregimen_summary.head()"
   ]
  },
  {
   "cell_type": "markdown",
   "metadata": {},
   "source": [
    "###  __Bar Plots__"
   ]
  },
  {
   "cell_type": "code",
   "execution_count": 5,
   "metadata": {},
   "outputs": [
    {
     "data": {
      "image/png": "[encoded data removed]",
      "text/plain": [
       "<Figure size 1440x360 with 1 Axes>"
      ]
     },
     "metadata": {
      "needs_background": "light"
     },
     "output_type": "display_data"
    },
    {
     "data": {
      "text/plain": [
       "<Figure size 432x288 with 0 Axes>"
      ]
     },
     "metadata": {},
     "output_type": "display_data"
    }
   ],
   "source": [
    "# Generate a bar plot showing number of data points for each treatment regimen using pandas\n",
    "\n",
    "summary_bar = drugregimen_summary[[\"Mean\", \"Median\"]]\n",
    "\n",
    "summary_bar.plot(kind=\"bar\", figsize=(20,5))\n",
    "\n",
    "plt.title(\"Tumor Volume by Drug Regimen\")\n",
    "plt.xlabel(\"Drug Regimen at Time Point\")\n",
    "plt.ylabel(\"Tumor Volume (mm3)\")\n",
    "plt.show()\n",
    "\n",
    "plt.savefig(\"Barplot1.png\")"
   ]
  },
  {
   "cell_type": "code",
   "execution_count": 6,
   "metadata": {},
   "outputs": [
    {
     "data": {
      "text/html": [
       "<div>\n",
       "<style scoped>\n",
       "    .dataframe tbody tr th:only-of-type {\n",
       "        vertical-align: middle;\n",
       "    }\n",
       "\n",
       "    .dataframe tbody tr th {\n",
       "        vertical-align: top;\n",
       "    }\n",
       "\n",
       "    .dataframe thead th {\n",
       "        text-align: right;\n",
       "    }\n",
       "</style>\n",
       "<table border=\"1\" class=\"dataframe\">\n",
       "  <thead>\n",
       "    <tr style=\"text-align: right;\">\n",
       "      <th></th>\n",
       "      <th>Drug Regimen</th>\n",
       "      <th>Timepoint</th>\n",
       "      <th>Mean</th>\n",
       "      <th>Median</th>\n",
       "      <th>Variance</th>\n",
       "      <th>Standard Deviation</th>\n",
       "      <th>Standard Error</th>\n",
       "    </tr>\n",
       "  </thead>\n",
       "  <tbody>\n",
       "    <tr>\n",
       "      <th>0</th>\n",
       "      <td>Capomulin</td>\n",
       "      <td>0</td>\n",
       "      <td>45.000000</td>\n",
       "      <td>45.000000</td>\n",
       "      <td>0.000000</td>\n",
       "      <td>0.000000</td>\n",
       "      <td>0.000000</td>\n",
       "    </tr>\n",
       "    <tr>\n",
       "      <th>1</th>\n",
       "      <td>Capomulin</td>\n",
       "      <td>5</td>\n",
       "      <td>44.266086</td>\n",
       "      <td>45.597064</td>\n",
       "      <td>5.030889</td>\n",
       "      <td>2.242964</td>\n",
       "      <td>0.448593</td>\n",
       "    </tr>\n",
       "    <tr>\n",
       "      <th>2</th>\n",
       "      <td>Capomulin</td>\n",
       "      <td>10</td>\n",
       "      <td>43.084291</td>\n",
       "      <td>43.421014</td>\n",
       "      <td>12.344133</td>\n",
       "      <td>3.513422</td>\n",
       "      <td>0.702684</td>\n",
       "    </tr>\n",
       "    <tr>\n",
       "      <th>3</th>\n",
       "      <td>Capomulin</td>\n",
       "      <td>15</td>\n",
       "      <td>42.064317</td>\n",
       "      <td>42.798160</td>\n",
       "      <td>16.878693</td>\n",
       "      <td>4.108369</td>\n",
       "      <td>0.838617</td>\n",
       "    </tr>\n",
       "    <tr>\n",
       "      <th>4</th>\n",
       "      <td>Capomulin</td>\n",
       "      <td>20</td>\n",
       "      <td>40.716325</td>\n",
       "      <td>40.716428</td>\n",
       "      <td>19.035028</td>\n",
       "      <td>4.362915</td>\n",
       "      <td>0.909731</td>\n",
       "    </tr>\n",
       "    <tr>\n",
       "      <th>...</th>\n",
       "      <td>...</td>\n",
       "      <td>...</td>\n",
       "      <td>...</td>\n",
       "      <td>...</td>\n",
       "      <td>...</td>\n",
       "      <td>...</td>\n",
       "      <td>...</td>\n",
       "    </tr>\n",
       "    <tr>\n",
       "      <th>95</th>\n",
       "      <td>Zoniferol</td>\n",
       "      <td>25</td>\n",
       "      <td>55.432935</td>\n",
       "      <td>55.676604</td>\n",
       "      <td>5.808348</td>\n",
       "      <td>2.410052</td>\n",
       "      <td>0.602513</td>\n",
       "    </tr>\n",
       "    <tr>\n",
       "      <th>96</th>\n",
       "      <td>Zoniferol</td>\n",
       "      <td>30</td>\n",
       "      <td>57.713531</td>\n",
       "      <td>57.419744</td>\n",
       "      <td>9.601024</td>\n",
       "      <td>3.098552</td>\n",
       "      <td>0.800043</td>\n",
       "    </tr>\n",
       "    <tr>\n",
       "      <th>97</th>\n",
       "      <td>Zoniferol</td>\n",
       "      <td>35</td>\n",
       "      <td>60.089372</td>\n",
       "      <td>60.365832</td>\n",
       "      <td>10.876760</td>\n",
       "      <td>3.297993</td>\n",
       "      <td>0.881426</td>\n",
       "    </tr>\n",
       "    <tr>\n",
       "      <th>98</th>\n",
       "      <td>Zoniferol</td>\n",
       "      <td>40</td>\n",
       "      <td>62.916692</td>\n",
       "      <td>62.274543</td>\n",
       "      <td>13.958456</td>\n",
       "      <td>3.736102</td>\n",
       "      <td>0.998515</td>\n",
       "    </tr>\n",
       "    <tr>\n",
       "      <th>99</th>\n",
       "      <td>Zoniferol</td>\n",
       "      <td>45</td>\n",
       "      <td>65.960888</td>\n",
       "      <td>65.684689</td>\n",
       "      <td>14.100301</td>\n",
       "      <td>3.755037</td>\n",
       "      <td>1.003576</td>\n",
       "    </tr>\n",
       "  </tbody>\n",
       "</table>\n",
       "<p>100 rows × 7 columns</p>\n",
       "</div>"
      ],
      "text/plain": [
       "   Drug Regimen  Timepoint       Mean     Median   Variance  \\\n",
       "0     Capomulin          0  45.000000  45.000000   0.000000   \n",
       "1     Capomulin          5  44.266086  45.597064   5.030889   \n",
       "2     Capomulin         10  43.084291  43.421014  12.344133   \n",
       "3     Capomulin         15  42.064317  42.798160  16.878693   \n",
       "4     Capomulin         20  40.716325  40.716428  19.035028   \n",
       "..          ...        ...        ...        ...        ...   \n",
       "95    Zoniferol         25  55.432935  55.676604   5.808348   \n",
       "96    Zoniferol         30  57.713531  57.419744   9.601024   \n",
       "97    Zoniferol         35  60.089372  60.365832  10.876760   \n",
       "98    Zoniferol         40  62.916692  62.274543  13.958456   \n",
       "99    Zoniferol         45  65.960888  65.684689  14.100301   \n",
       "\n",
       "    Standard Deviation  Standard Error  \n",
       "0             0.000000        0.000000  \n",
       "1             2.242964        0.448593  \n",
       "2             3.513422        0.702684  \n",
       "3             4.108369        0.838617  \n",
       "4             4.362915        0.909731  \n",
       "..                 ...             ...  \n",
       "95            2.410052        0.602513  \n",
       "96            3.098552        0.800043  \n",
       "97            3.297993        0.881426  \n",
       "98            3.736102        0.998515  \n",
       "99            3.755037        1.003576  \n",
       "\n",
       "[100 rows x 7 columns]"
      ]
     },
     "execution_count": 6,
     "metadata": {},
     "output_type": "execute_result"
    }
   ],
   "source": [
    "drugregimen_summary = drugregimen_summary.reset_index()\n",
    "drugregimen_summary"
   ]
  },
  {
   "cell_type": "code",
   "execution_count": 7,
   "metadata": {},
   "outputs": [
    {
     "data": {
      "image/png": "[encoded data removed]",
      "text/plain": [
       "<Figure size 1440x360 with 1 Axes>"
      ]
     },
     "metadata": {
      "needs_background": "light"
     },
     "output_type": "display_data"
    },
    {
     "data": {
      "text/plain": [
       "<Figure size 432x288 with 0 Axes>"
      ]
     },
     "metadata": {},
     "output_type": "display_data"
    }
   ],
   "source": [
    "# Generate a bar plot showing number of data points for each treatment regimen using pyplot\n",
    "\n",
    "x_axis = np.arange(len(drugregimen_summary))\n",
    "width = .25\n",
    "\n",
    "plt.figure(figsize=(20,5))\n",
    "plt.bar(x_axis, drugregimen_summary[\"Mean\"], width, color='blue',  align=\"center\", label=\"Mean\")\n",
    "plt.bar(x_axis + width, drugregimen_summary[\"Median\"], width, color='orange',  align=\"center\", label=\"Median\")\n",
    "plt.xticks(x_axis + width/ 2, drugregimen_summary[\"Drug Regimen\"], rotation=\"vertical\")\n",
    "\n",
    "plt.xlim(0, len(x_axis))\n",
    "plt.ylim(0, max(drugregimen_summary[\"Mean\"]+5))\n",
    "\n",
    "plt.title(\"Tumor Volume by Drug Regimen\")\n",
    "plt.xlabel(\"Drug Regimen at Time Point\")\n",
    "plt.ylabel(\"Tumor Volume (mm3)\")\n",
    "plt.legend(loc='upper left')\n",
    "plt.show()\n",
    "\n",
    "plt.savefig(\"Barplot2.png\")"
   ]
  },
  {
   "cell_type": "markdown",
   "metadata": {},
   "source": [
    "###  __Pie Plots__"
   ]
  },
  {
   "cell_type": "code",
   "execution_count": 8,
   "metadata": {},
   "outputs": [
    {
     "data": {
      "image/png": "[encoded data removed]",
      "text/plain": [
       "<Figure size 432x288 with 1 Axes>"
      ]
     },
     "metadata": {},
     "output_type": "display_data"
    },
    {
     "data": {
      "text/plain": [
       "<Figure size 432x288 with 0 Axes>"
      ]
     },
     "metadata": {},
     "output_type": "display_data"
    }
   ],
   "source": [
    "# Generate a pie plot showing the distribution of female versus male mice using pandas\n",
    "\n",
    "sex_grouped = combined_df.groupby([\"Sex\"])\n",
    "sex_df = sex_grouped.count()[\"Mouse ID\"]\n",
    "sex_df.plot(kind = 'pie', explode = [0, 0.05], colors = [\"pink\", \"lightblue\"], shadow = True, fontsize = 10, label = \"\", autopct=\"%1.1f%%\")\n",
    "plt.legend(loc='lower right')\n",
    "plt.title('Distribution of Female vs Male Mice')\n",
    "plt.show()\n",
    "\n",
    "plt.savefig(\"Pieplot1.png\")"
   ]
  },
  {
   "cell_type": "code",
   "execution_count": 9,
   "metadata": {},
   "outputs": [
    {
     "data": {
      "image/png": "[encoded data removed]",
      "text/plain": [
       "<Figure size 432x288 with 1 Axes>"
      ]
     },
     "metadata": {},
     "output_type": "display_data"
    },
    {
     "data": {
      "text/plain": [
       "<Figure size 432x288 with 0 Axes>"
      ]
     },
     "metadata": {},
     "output_type": "display_data"
    }
   ],
   "source": [
    "# Generate a pie plot showing the distribution of female versus male mice using pyplot\n",
    "\n",
    "gender = sex_grouped['Sex'].unique()\n",
    "plt.pie(sex_df, explode = [0, 0.05], colors = [\"pink\", \"lightblue\"], shadow = True, labels = gender, autopct=\"%1.1f%%\")\n",
    "plt.legend(loc='lower right')\n",
    "plt.title('Distribution of Female vs Male Mice')\n",
    "plt.show()\n",
    "\n",
    "plt.savefig(\"Pieplot2.png\")"
   ]
  },
  {
   "cell_type": "markdown",
   "metadata": {},
   "source": [
    "### _Quartiles, outliers and boxplots_"
   ]
  },
  {
   "cell_type": "code",
   "execution_count": 10,
   "metadata": {},
   "outputs": [],
   "source": [
    "# Calculate the final tumor volume of each mouse across four of the most promising treatment regimens. Calculate the IQR and quantitatively determine if there are any potential outliers.\n",
    "\n",
    "grouped_merge = combined_df.groupby(['Mouse ID','Drug Regimen'])\n",
    "last_value_specimen = grouped_merge.tail(n = 1)\n",
    "\n",
    "#Ramicane, Capomulin, Ceftamin, Infubinol have the lowest final tumor volume.\n",
    "\n",
    "ramicane = last_value_specimen.loc[last_value_specimen['Drug Regimen']=='Ramicane',['Mouse ID','Drug Regimen', 'Tumor Volume (mm3)']]\n",
    "capomulin = last_value_specimen.loc[last_value_specimen['Drug Regimen']=='Capomulin',['Mouse ID','Drug Regimen', 'Tumor Volume (mm3)']]\n",
    "ceftamin = last_value_specimen.loc[last_value_specimen['Drug Regimen']=='Ceftamin',['Mouse ID','Drug Regimen', 'Tumor Volume (mm3)']]\n",
    "infubinol = last_value_specimen.loc[last_value_specimen['Drug Regimen']=='Infubinol',['Mouse ID','Drug Regimen', 'Tumor Volume (mm3)']]\n"
   ]
  },
  {
   "cell_type": "code",
   "execution_count": 11,
   "metadata": {},
   "outputs": [
    {
     "name": "stdout",
     "output_type": "stream",
     "text": [
      "The lower quartile is: 31.56046955\n",
      "The upper quartile is: 40.65900627\n",
      "The interquartile range is: 9.098536719999998\n",
      "The the median is: 36.56165229 \n",
      "Values below 17.912664470000003 could be outliers.\n",
      "Values above 54.30681135 could be outliers.\n"
     ]
    }
   ],
   "source": [
    "r_quartiles = ramicane['Tumor Volume (mm3)'].quantile([0.25,0.5,0.75])\n",
    "r_lowq = r_quartiles[0.25]\n",
    "r_upq = r_quartiles[0.75]\n",
    "r_iqr = r_upq - r_lowq\n",
    "r_low = r_lowq - (1.5*r_iqr) \n",
    "r_up = r_upq + (1.5*r_iqr)\n",
    "outlier_r = ramicane.loc[(ramicane['Tumor Volume (mm3)']<r_low) | (ramicane['Tumor Volume (mm3)']>r_up)]\n",
    "\n",
    "print(f\"The lower quartile is: {r_lowq}\")\n",
    "print(f\"The upper quartile is: {r_upq}\")\n",
    "print(f\"The interquartile range is: {r_iqr}\")\n",
    "print(f\"The the median is: {r_quartiles[0.5]} \")\n",
    "print(f\"Values below {r_low} could be outliers.\")\n",
    "print(f\"Values above {r_up} could be outliers.\")"
   ]
  },
  {
   "cell_type": "code",
   "execution_count": 12,
   "metadata": {},
   "outputs": [
    {
     "name": "stdout",
     "output_type": "stream",
     "text": [
      "The lower quartile is: 32.37735684\n",
      "The upper quartile is: 40.1592203\n",
      "The interquartile range is: 7.781863460000004\n",
      "The the median is: 38.125164399999996 \n",
      "Values below 20.70456164999999 could be outliers.\n",
      "Values above 51.83201549 could be outliers.\n"
     ]
    }
   ],
   "source": [
    "cap_quartiles = capomulin['Tumor Volume (mm3)'].quantile([0.25,0.5,0.75])\n",
    "cap_lowq = cap_quartiles[0.25]\n",
    "cap_upq = cap_quartiles[0.75]\n",
    "cap_iqr = cap_upq - cap_lowq\n",
    "cap_low = cap_lowq - (1.5*cap_iqr) \n",
    "cap_up = cap_upq + (1.5*cap_iqr)\n",
    "outlier_cap = capomulin.loc[(capomulin['Tumor Volume (mm3)']<cap_low) | (capomulin['Tumor Volume (mm3)']>cap_up)]\n",
    "\n",
    "print(f\"The lower quartile is: {cap_lowq}\")\n",
    "print(f\"The upper quartile is: {cap_upq}\")\n",
    "print(f\"The interquartile range is: {cap_iqr}\")\n",
    "print(f\"The the median is: {cap_quartiles[0.5]} \")\n",
    "print(f\"Values below {cap_low} could be outliers.\")\n",
    "print(f\"Values above {cap_up} could be outliers.\")"
   ]
  },
  {
   "cell_type": "code",
   "execution_count": null,
   "metadata": {},
   "outputs": [],
   "source": [
    "ceft_quartiles = ceftamin['Tumor Volume (mm3)'].quantile([0.25,0.5,0.75])\n",
    "ceft_lowq = ceft_quartiles[0.25]\n",
    "ceft_upq = ceft_quartiles[0.75]\n",
    "ceft_iqr = ceft_upq - ceft_lowq\n",
    "ceft_low = ceft_lowq - (1.5*ceft_iqr) \n",
    "ceft_up = ceft_upq + (1.5*ceft_iqr)\n",
    "outlier_ceft = ceftamin.loc[(ceftamin['Tumor Volume (mm3)']<ceft_low) | (ceftamin['Tumor Volume (mm3)']>ceft_up)]\n",
    "\n",
    "print(f\"The lower quartile is: {ceft_lowq}\")\n",
    "print(f\"The upper quartile is: {ceft_upq}\")\n",
    "print(f\"The interquartile range is: {ceft_iqr}\")\n",
    "print(f\"The the median is: {ceft_quartiles[0.5]} \")\n",
    "print(f\"Values below {ceft_low} could be outliers.\")\n",
    "print(f\"Values above {ceft_up} could be outliers.\")"
   ]
  },
  {
   "cell_type": "code",
   "execution_count": 13,
   "metadata": {},
   "outputs": [
    {
     "name": "stdout",
     "output_type": "stream",
     "text": [
      "The lower quartile is: 54.04860769\n",
      "The upper quartile is: 65.52574285\n",
      "The interquartile range is: 11.477135160000003\n",
      "The the median is: 60.16518046 \n",
      "Values below 36.83290494999999 could be outliers.\n",
      "Values above 82.74144559000001 could be outliers.\n"
     ]
    }
   ],
   "source": [
    "inf_quartiles = infubinol['Tumor Volume (mm3)'].quantile([0.25,0.5,0.75])\n",
    "inf_lowq = inf_quartiles[0.25]\n",
    "inf_upq = inf_quartiles[0.75]\n",
    "inf_iqr = inf_upq - inf_lowq\n",
    "inf_low = inf_lowq - (1.5*inf_iqr) \n",
    "inf_up = inf_upq + (1.5*inf_iqr)\n",
    "outlier_inf = infubinol.loc[(infubinol['Tumor Volume (mm3)']<inf_low) | (infubinol['Tumor Volume (mm3)']>inf_up)]\n",
    "\n",
    "print(f\"The lower quartile is: {inf_lowq}\")\n",
    "print(f\"The upper quartile is: {inf_upq}\")\n",
    "print(f\"The interquartile range is: {inf_iqr}\")\n",
    "print(f\"The the median is: {inf_quartiles[0.5]} \")\n",
    "print(f\"Values below {inf_low} could be outliers.\")\n",
    "print(f\"Values above {inf_up} could be outliers.\")"
   ]
  },
  {
   "cell_type": "code",
   "execution_count": 15,
   "metadata": {},
   "outputs": [
    {
     "data": {
      "text/plain": [
       "([<matplotlib.axis.XTick at 0x16b39624588>,\n",
       "  <matplotlib.axis.XTick at 0x16b396b7b38>,\n",
       "  <matplotlib.axis.XTick at 0x16b3960aa90>,\n",
       "  <matplotlib.axis.XTick at 0x16b395bd1d0>],\n",
       " <a list of 4 Text xticklabel objects>)"
      ]
     },
     "execution_count": 15,
     "metadata": {},
     "output_type": "execute_result"
    },
    {
     "data": {
      "image/png": "[encoded data removed]",
      "text/plain": [
       "<Figure size 432x288 with 1 Axes>"
      ]
     },
     "metadata": {
      "needs_background": "light"
     },
     "output_type": "display_data"
    }
   ],
   "source": [
    "# Generate a box plot of the final tumor volume of each mouse across four regimens of interest\n",
    "\n",
    "red_diamond = dict(markerfacecolor='r', marker='D')\n",
    "fig1, ax1 = plt.subplots()\n",
    "ax1.set_title('Drug Regimen Final Tumor Volumes (mm3)')\n",
    "ax1.set_ylabel('Tumor Volume (mm3)')\n",
    "ax1.boxplot([ramicane['Tumor Volume (mm3)'], capomulin['Tumor Volume (mm3)'], ceftamin['Tumor Volume (mm3)'], infubinol['Tumor Volume (mm3)']], flierprops=red_diamond)\n",
    "plt.xticks([1,2,3,4],['Ramicane', 'Capomulin', 'Ceftamin', 'Infubinol'])\n"
   ]
  },
  {
   "cell_type": "markdown",
   "metadata": {},
   "source": [
    "### _Line and Scatter plots_"
   ]
  },
  {
   "cell_type": "code",
   "execution_count": 16,
   "metadata": {},
   "outputs": [
    {
     "data": {
      "text/html": [
       "<div>\n",
       "<style scoped>\n",
       "    .dataframe tbody tr th:only-of-type {\n",
       "        vertical-align: middle;\n",
       "    }\n",
       "\n",
       "    .dataframe tbody tr th {\n",
       "        vertical-align: top;\n",
       "    }\n",
       "\n",
       "    .dataframe thead th {\n",
       "        text-align: right;\n",
       "    }\n",
       "</style>\n",
       "<table border=\"1\" class=\"dataframe\">\n",
       "  <thead>\n",
       "    <tr style=\"text-align: right;\">\n",
       "      <th></th>\n",
       "      <th>Mouse ID</th>\n",
       "      <th>Timepoint</th>\n",
       "      <th>Weight (g)</th>\n",
       "      <th>Tumor Volume (mm3)</th>\n",
       "    </tr>\n",
       "  </thead>\n",
       "  <tbody>\n",
       "    <tr>\n",
       "      <th>20</th>\n",
       "      <td>x401</td>\n",
       "      <td>0</td>\n",
       "      <td>15</td>\n",
       "      <td>45.000000</td>\n",
       "    </tr>\n",
       "    <tr>\n",
       "      <th>21</th>\n",
       "      <td>x401</td>\n",
       "      <td>5</td>\n",
       "      <td>15</td>\n",
       "      <td>45.473753</td>\n",
       "    </tr>\n",
       "    <tr>\n",
       "      <th>22</th>\n",
       "      <td>x401</td>\n",
       "      <td>10</td>\n",
       "      <td>15</td>\n",
       "      <td>39.113891</td>\n",
       "    </tr>\n",
       "    <tr>\n",
       "      <th>23</th>\n",
       "      <td>x401</td>\n",
       "      <td>15</td>\n",
       "      <td>15</td>\n",
       "      <td>39.776250</td>\n",
       "    </tr>\n",
       "    <tr>\n",
       "      <th>24</th>\n",
       "      <td>x401</td>\n",
       "      <td>20</td>\n",
       "      <td>15</td>\n",
       "      <td>36.065835</td>\n",
       "    </tr>\n",
       "    <tr>\n",
       "      <th>25</th>\n",
       "      <td>x401</td>\n",
       "      <td>25</td>\n",
       "      <td>15</td>\n",
       "      <td>36.617120</td>\n",
       "    </tr>\n",
       "    <tr>\n",
       "      <th>26</th>\n",
       "      <td>x401</td>\n",
       "      <td>30</td>\n",
       "      <td>15</td>\n",
       "      <td>32.915292</td>\n",
       "    </tr>\n",
       "    <tr>\n",
       "      <th>27</th>\n",
       "      <td>x401</td>\n",
       "      <td>35</td>\n",
       "      <td>15</td>\n",
       "      <td>30.206825</td>\n",
       "    </tr>\n",
       "    <tr>\n",
       "      <th>28</th>\n",
       "      <td>x401</td>\n",
       "      <td>40</td>\n",
       "      <td>15</td>\n",
       "      <td>28.167397</td>\n",
       "    </tr>\n",
       "    <tr>\n",
       "      <th>29</th>\n",
       "      <td>x401</td>\n",
       "      <td>45</td>\n",
       "      <td>15</td>\n",
       "      <td>28.484033</td>\n",
       "    </tr>\n",
       "  </tbody>\n",
       "</table>\n",
       "</div>"
      ],
      "text/plain": [
       "   Mouse ID  Timepoint  Weight (g)  Tumor Volume (mm3)\n",
       "20     x401          0          15           45.000000\n",
       "21     x401          5          15           45.473753\n",
       "22     x401         10          15           39.113891\n",
       "23     x401         15          15           39.776250\n",
       "24     x401         20          15           36.065835\n",
       "25     x401         25          15           36.617120\n",
       "26     x401         30          15           32.915292\n",
       "27     x401         35          15           30.206825\n",
       "28     x401         40          15           28.167397\n",
       "29     x401         45          15           28.484033"
      ]
     },
     "execution_count": 16,
     "metadata": {},
     "output_type": "execute_result"
    },
    {
     "data": {
      "image/png": "[encoded data removed]",
      "text/plain": [
       "<Figure size 432x288 with 1 Axes>"
      ]
     },
     "metadata": {
      "needs_background": "light"
     },
     "output_type": "display_data"
    }
   ],
   "source": [
    "# Generate a line plot of time point versus tumor volume for a mouse treated with Capomulin\n",
    "\n",
    "cap_specimens = combined_df.loc[combined_df['Drug Regimen'] == 'Capomulin', ['Mouse ID', 'Drug Regimen', 'Timepoint', 'Weight (g)', 'Tumor Volume (mm3)']]\n",
    "cap_specimen = cap_specimens.loc[cap_specimens['Mouse ID'] == 'x401', ['Mouse ID', 'Timepoint', 'Weight (g)', 'Tumor Volume (mm3)']]\n",
    "cap_specimen.plot(kind=\"line\", x='Timepoint',y='Tumor Volume (mm3)', marker =\"o\", color = 'blue')\n",
    "plt.title('Tumor Volume vs. Time Point')\n",
    "plt.ylabel('Tumor Volume (mm3)')\n",
    "cap_specimen"
   ]
  },
  {
   "cell_type": "code",
   "execution_count": 17,
   "metadata": {},
   "outputs": [
    {
     "data": {
      "text/plain": [
       "Text(0.5, 1.0, 'Weight vs. Average Tumor volume (mm3)')"
      ]
     },
     "execution_count": 17,
     "metadata": {},
     "output_type": "execute_result"
    },
    {
     "data": {
      "image/png": "[encoded data removed]",
      "text/plain": [
       "<Figure size 432x288 with 1 Axes>"
      ]
     },
     "metadata": {
      "needs_background": "light"
     },
     "output_type": "display_data"
    }
   ],
   "source": [
    "# Generate a scatter plot of mouse weight versus average tumor volume for the Capomulin regimen\n",
    "\n",
    "cap_specimens_grouped = cap_specimens.groupby(['Mouse ID'])\n",
    "cap_specimens_means = cap_specimens_grouped.mean()\n",
    "cap_specimens_means.plot(kind = \"scatter\", x='Weight (g)', y='Tumor Volume (mm3)', marker = 'o', color = 'b')\n",
    "plt.title('Weight vs. Average Tumor volume (mm3)')"
   ]
  },
  {
   "cell_type": "code",
   "execution_count": 18,
   "metadata": {},
   "outputs": [
    {
     "name": "stdout",
     "output_type": "stream",
     "text": [
      "y = 0.95x + 21.55\n",
      "The r value is : 0.8419363424694718\n"
     ]
    }
   ],
   "source": [
    "# Calculate the correlation coefficient and linear regression model for mouse weight and average tumor volume for the Capomulin regimen\n",
    "\n",
    "x_values = cap_specimens_means['Weight (g)']\n",
    "y_values = cap_specimens_means['Tumor Volume (mm3)']\n",
    "\n",
    "(slope, intercept, rvalue, pvalue, stderr) = stats.linregress(x_values, y_values)\n",
    "regress_values = x_values * slope + intercept\n",
    "\n",
    "line_eq = \"y = \" + str(round(slope,2)) + \"x + \" + str(round(intercept,2))\n",
    "print(line_eq)\n",
    "\n",
    "print(f\"The r value is : {rvalue}\")"
   ]
  },
  {
   "cell_type": "code",
   "execution_count": 19,
   "metadata": {},
   "outputs": [
    {
     "data": {
      "text/plain": [
       "Text(22, 40, 'y = 0.95x + 21.55')"
      ]
     },
     "execution_count": 19,
     "metadata": {},
     "output_type": "execute_result"
    },
    {
     "data": {
      "image/png": "[encoded data removed]",
      "text/plain": [
       "<Figure size 432x288 with 1 Axes>"
      ]
     },
     "metadata": {
      "needs_background": "light"
     },
     "output_type": "display_data"
    }
   ],
   "source": [
    "plt.scatter(x_values,y_values,edgecolors=\"black\")\n",
    "plt.plot(x_values,regress_values, \"r-\")\n",
    "\n",
    "plt.title('Weight vs. Average Tumor volume (mm3)')\n",
    "plt.xlabel('Weight (g)')\n",
    "plt.ylabel('Tumor Volume (mm3)')\n",
    "plt.annotate(line_eq,(22,40), color=\"red\")"
   ]
  }
 ],
 "metadata": {
  "kernelspec": {
   "display_name": "Python 3",
   "language": "python",
   "name": "python3"
  },
  "language_info": {
   "codemirror_mode": {
    "name": "ipython",
    "version": 3
   },
   "file_extension": ".py",
   "mimetype": "text/x-python",
   "name": "python",
   "nbconvert_exporter": "python",
   "pygments_lexer": "ipython3",
   "version": "3.6.10"
  }
 },
 "nbformat": 4,
 "nbformat_minor": 2
}
